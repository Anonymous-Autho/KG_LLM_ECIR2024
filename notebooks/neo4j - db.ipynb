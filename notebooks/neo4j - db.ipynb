{
 "cells": [
  {
   "cell_type": "markdown",
   "id": "f52b4291",
   "metadata": {},
   "source": [
    "Creation of the neo4j database based on the node and edges files that we've already created.\n",
    "\n",
    "Embeddings were created with ``SentenceTransformer('all-MiniLM-L6-v2')``.\n",
    "\n",
    "There are some fixes to field and node names that could be modified beforehand to simplify this code.\n",
    "* Nodes should be added their type.\n",
    "* Edges should be added the node types.\n",
    "\n",
    "* Check node order in ``was admitted`` relation. Edges might be mixed and relation might end up being added twice!"
   ]
  },
  {
   "cell_type": "code",
   "execution_count": null,
   "id": "7d019e8b",
   "metadata": {},
   "outputs": [],
   "source": [
    "import os\n",
    "import pandas as pd\n",
    "from tqdm.notebook import tqdm"
   ]
  },
  {
   "cell_type": "code",
   "execution_count": null,
   "id": "21a35579",
   "metadata": {},
   "outputs": [],
   "source": [
    "path_dir = './'"
   ]
  },
  {
   "cell_type": "code",
   "execution_count": null,
   "id": "f988b590",
   "metadata": {},
   "outputs": [],
   "source": [
    "from langchain.graphs import Neo4jGraph\n",
    "\n",
    "NEO4J_URI= \"bolt://localhost:7687\"\n",
    "NEO4J_USERNAME= \"neo4j\" \n",
    "NEO4J_PASSWORD= \"\"\n",
    "\n",
    "graph = Neo4jGraph(\n",
    "    url=NEO4J_URI,\n",
    "    username=NEO4J_USERNAME,\n",
    "    password=NEO4J_PASSWORD\n",
    ")"
   ]
  },
  {
   "cell_type": "code",
   "execution_count": null,
   "id": "94e5db6b",
   "metadata": {},
   "outputs": [],
   "source": [
    "nodes = pd.read_pickle(path_dir + 'neo4j_nodes.pickle')\n",
    "len(nodes)"
   ]
  },
  {
   "cell_type": "code",
   "execution_count": null,
   "id": "3c99e4fa",
   "metadata": {},
   "outputs": [],
   "source": [
    "nodes_patient = [dict(v, **{'id':k}) for k,v in nodes.items() if v['is a'] == 'patient']\n",
    "nodes_admission = [dict(v, **{'id':k}) for k,v in nodes.items() if v['is a'] == 'admission']\n",
    "nodes_prescription = [dict(v, **{'id':k}) for k,v in nodes.items() if v['is a'] == 'prescription']\n",
    "\n",
    "len(nodes_patient),len(nodes_admission),len(nodes_prescription)"
   ]
  },
  {
   "cell_type": "code",
   "execution_count": null,
   "id": "8b7812af",
   "metadata": {},
   "outputs": [],
   "source": [
    "nodes_types = defaultdict(set)\n",
    "for n,v in nodes.items():\n",
    "    nodes_types[v['is a']].add(n)"
   ]
  },
  {
   "cell_type": "code",
   "execution_count": null,
   "id": "26d777e9",
   "metadata": {},
   "outputs": [],
   "source": [
    "graph.query(\"\"\"\n",
    "UNWIND $data AS row\n",
    "CREATE (c:Patient {id: row.id})\n",
    "WITH c, row\n",
    "RETURN distinct 'done'\n",
    "\"\"\", {'data': nodes_patient})"
   ]
  },
  {
   "cell_type": "code",
   "execution_count": null,
   "id": "add0b4f9",
   "metadata": {},
   "outputs": [],
   "source": [
    "graph.query(\"\"\"\n",
    "UNWIND $data AS row\n",
    "CREATE (c:Admission {id: row.id, has_age: row['has age'], has_gender: row['has gender']})\n",
    "WITH c, row\n",
    "RETURN distinct 'done'\n",
    "\"\"\", {'data': nodes_admission})"
   ]
  },
  {
   "cell_type": "code",
   "execution_count": null,
   "id": "3458ed28",
   "metadata": {},
   "outputs": [],
   "source": [
    "n = 150000\n",
    "for i in tqdm(range(0, len(nodes_prescription), n)):\n",
    "    graph.query(\"\"\"\n",
    "    UNWIND $data AS row\n",
    "    CREATE (c:Prescription {id: row.id,\n",
    "                            has_a_duration_of: row['has a duration of'],\n",
    "                            has_a_dose_of: row['has a dose of'],\n",
    "                            has_a_drug_of: row['has a drug of']\n",
    "                           })\n",
    "    WITH c, row\n",
    "    RETURN distinct 'done'\n",
    "    \"\"\", {'data': nodes_prescription[i:i + n]})"
   ]
  },
  {
   "cell_type": "code",
   "execution_count": null,
   "id": "d2dce871",
   "metadata": {},
   "outputs": [],
   "source": [
    "del nodes_patient\n",
    "del nodes_admission\n",
    "del nodes_prescription\n",
    "del nodes"
   ]
  },
  {
   "cell_type": "code",
   "execution_count": null,
   "id": "a7a4fd5c",
   "metadata": {},
   "outputs": [],
   "source": [
    "nodes = pd.read_pickle(path_dir + 'neo4j_nodes_drugs.pickle')\n",
    "nodes_drugs = [dict(v, **{'id':k}) for k,v in nodes.items()]\n",
    "len(nodes)"
   ]
  },
  {
   "cell_type": "code",
   "execution_count": null,
   "id": "19b953a8",
   "metadata": {},
   "outputs": [],
   "source": [
    "graph.query(\"\"\"\n",
    "CALL db.index.vector.createNodeIndex(\n",
    "  'acts_as_index', // index name\n",
    "  'Drug',     // node label\n",
    "  'acts_as__embeddings', // node property\n",
    "   384,       // vector size\n",
    "   'cosine'    // similarity metric\n",
    ")\n",
    "\"\"\")\n",
    "\n",
    "graph.query(\"\"\"\n",
    "CALL db.index.vector.createNodeIndex(\n",
    "  'is_known_as_index', // index name\n",
    "  'Drug',     // node label\n",
    "  'is_known_as__embeddings', // node property\n",
    "   384,       // vector size\n",
    "   'cosine'    // similarity metric\n",
    ")\n",
    "\"\"\")\n",
    "\n",
    "graph.query(\"\"\"\n",
    "CALL db.index.vector.createNodeIndex(\n",
    "  'is_indicated_for_index', // index name\n",
    "  'Drug',     // node label\n",
    "  'is_indicated_for__embeddings', // node property\n",
    "   384,       // vector size\n",
    "   'cosine'    // similarity metric\n",
    ")\n",
    "\"\"\")\n",
    "\n",
    "graph.query(\"\"\"\n",
    "CALL db.index.vector.createNodeIndex(\n",
    "  'can_be_described_as_index', // index name\n",
    "  'Drug',     // node label\n",
    "  'can_be_described_as__embeddings', // node property\n",
    "   384,       // vector size\n",
    "   'cosine'    // similarity metric\n",
    ")\n",
    "\"\"\")"
   ]
  },
  {
   "cell_type": "code",
   "execution_count": null,
   "id": "8dcdb2d4",
   "metadata": {},
   "outputs": [],
   "source": [
    "graph.query(\"\"\"\n",
    "UNWIND $data AS row\n",
    "CREATE (c:Drug {id : row['id'],\n",
    "\n",
    "                is_known_as: row['is known as'], \n",
    "                is_indicated_for: row['is indicated for'],\n",
    "                acts_as: row['acts as'],\n",
    "                can_be_described_as: row['can be described as'],\n",
    "            \n",
    "                is_known_as__embeddings: row['is known as__embeddings'],\n",
    "                acts_as__embeddings: row['acts as__embeddings'],\n",
    "                is_indicated_for__embeddings: row['is indicated for__embeddings'],\n",
    "                can_be_described_as__embeddings: row['can be described as__embeddings']\n",
    "                })\n",
    "WITH c, row\n",
    "RETURN distinct 'done'\n",
    "\"\"\", {'data': nodes_drugs})"
   ]
  },
  {
   "cell_type": "code",
   "execution_count": null,
   "id": "26b7a177",
   "metadata": {},
   "outputs": [],
   "source": [
    "graph.query(\"\"\"\n",
    "MATCH (c:Drug)\n",
    "CALL db.create.setVectorProperty(c, 'is_known_as__embeddings', c['is_known_as__embeddings'])\n",
    "YIELD node RETURN node;\n",
    "\"\"\")\n",
    "\n",
    "graph.query(\"\"\"\n",
    "MATCH (c:Drug)\n",
    "WHERE c.acts_as__embeddings IS NOT NULL\n",
    "CALL db.create.setVectorProperty(c, 'acts_as__embeddings', c['acts_as__embeddings'])\n",
    "YIELD node RETURN node;\n",
    "\"\"\")\n",
    "\n",
    "graph.query(\"\"\"\n",
    "MATCH (c:Drug)\n",
    "WHERE c.is_indicated_for__embeddings IS NOT NULL\n",
    "CALL db.create.setVectorProperty(c, 'is_indicated_for__embeddings', c['is_indicated_for__embeddings'])\n",
    "YIELD node RETURN node;\n",
    "\"\"\")\n",
    "\n",
    "graph.query(\"\"\"\n",
    "MATCH (c:Drug)\n",
    "WHERE c.can_be_described_as__embeddings IS NOT NULL\n",
    "CALL db.create.setVectorProperty(c, 'can_be_described_as__embeddings', c['can_be_described_as__embeddings'])\n",
    "YIELD node RETURN node;\n",
    "\"\"\")"
   ]
  },
  {
   "cell_type": "code",
   "execution_count": null,
   "id": "477ac5d9",
   "metadata": {},
   "outputs": [],
   "source": [
    "nodes = pd.read_pickle(path_dir + 'neo4j_nodes_icds.pickle')\n",
    "nodes_icds = [dict(v, **{'id':k}) for k,v in nodes.items()]\n",
    "len(nodes)"
   ]
  },
  {
   "cell_type": "code",
   "execution_count": null,
   "id": "aafdf4af",
   "metadata": {},
   "outputs": [],
   "source": [
    "graph.query(\"\"\"\n",
    "CALL db.index.vector.createNodeIndex(\n",
    "  'is_known_as_icd_index', // index name\n",
    "  'ICD',     // node label\n",
    "  'is_known_as__embeddings', // node property\n",
    "   384,       // vector size\n",
    "   'cosine'    // similarity metric\n",
    ")\n",
    "\"\"\")"
   ]
  },
  {
   "cell_type": "code",
   "execution_count": null,
   "id": "a67561ff",
   "metadata": {},
   "outputs": [],
   "source": [
    "graph.query(\"\"\"\n",
    "UNWIND $data AS row\n",
    "CREATE (c:ICD {id: row.id,\n",
    "               is_known_as: row['is known as'],\n",
    "               is_known_as__embeddings: row['is known as__embeddings']\n",
    "              })\n",
    "WITH c, row\n",
    "CALL db.create.setVectorProperty(c, 'is_known_as__embeddings', row['is known as__embeddings'])\n",
    "YIELD node\n",
    "RETURN distinct 'done'\n",
    "\"\"\", {'data': nodes_icds})"
   ]
  },
  {
   "cell_type": "code",
   "execution_count": null,
   "id": "c8848d74",
   "metadata": {},
   "outputs": [],
   "source": []
  },
  {
   "cell_type": "code",
   "execution_count": null,
   "id": "756d4075",
   "metadata": {},
   "outputs": [],
   "source": [
    "edges = pd.read_pickle(path_dir + 'neo4j_edges.pickle')\n",
    "len(edges)"
   ]
  },
  {
   "cell_type": "code",
   "execution_count": null,
   "id": "59d8be04",
   "metadata": {},
   "outputs": [],
   "source": [
    "from collections import defaultdict\n",
    "\n",
    "edges_types = defaultdict(list)\n",
    "\n",
    "for e in tqdm(edges):\n",
    "    if e['rel_type'] == 'has prescription':\n",
    "        e['source_type'] = 'Admission'\n",
    "        e['dest_type'] = 'Prescription'\n",
    "        e['rel_type'] = e['rel_type'].replace(' ','_')\n",
    "        edges_types[e['rel_type']].append(e)\n",
    "        continue\n",
    "        \n",
    "    if e['rel_type'] == 'was admitted in':\n",
    "        e['source_type'] = 'Patient'\n",
    "        e['dest_type'] = 'Admission'\n",
    "        e['rel_type'] = e['rel_type'].replace(' ','_')\n",
    "        edges_types[e['rel_type']].append(e)\n",
    "        continue\n",
    "    \n",
    "    if e['rel_type'] == 'takes drug':\n",
    "        if e['source'].startswith('pres'):\n",
    "            e['source_type'] = 'Prescription'\n",
    "            e['dest_type'] = 'Drug'\n",
    "            e['rel_type'] = 'prescribed_drug'\n",
    "        else:\n",
    "            e['source_type'] = 'Admission'\n",
    "            e['dest_type'] = 'Drug'\n",
    "            e['rel_type'] = e['rel_type'].replace(' ','_')\n",
    "        edges_types[e['rel_type']].append(e)\n",
    "        continue\n",
    "\n",
    "    if e['rel_type'] == 'was diagnosed':\n",
    "        e['source_type'] = 'Admission'\n",
    "        e['dest_type'] = 'ICD'\n",
    "        e['rel_type'] = e['rel_type'].replace(' ','_')\n",
    "        edges_types[e['rel_type']].append(e)\n",
    "        continue\n",
    "    \n",
    "    if e['rel_type'] == 'interacts with':\n",
    "        e['source_type'] = 'Drug'\n",
    "        e['dest_type'] = 'Drug'\n",
    "        e['rel_type'] = e['rel_type'].replace(' ','_')\n",
    "        edges_types[e['rel_type']].append(e)\n",
    "        continue\n",
    "    \n",
    "    if e['rel_type'] == 'is subclass of':\n",
    "        e['source_type'] = 'ICD'\n",
    "        e['dest_type'] = 'ICD'\n",
    "        e['rel_type'] = e['rel_type'].replace(' ','_')\n",
    "        edges_types[e['rel_type']].append(e)\n",
    "        continue\n",
    "    \n",
    "    print(e)\n",
    "    break"
   ]
  },
  {
   "cell_type": "code",
   "execution_count": null,
   "id": "49b16613",
   "metadata": {},
   "outputs": [],
   "source": [
    "for k,v in edges_types.items():\n",
    "    print(k,len(v))"
   ]
  },
  {
   "cell_type": "code",
   "execution_count": null,
   "id": "a147e791",
   "metadata": {},
   "outputs": [],
   "source": [
    "n = 100"
   ]
  },
  {
   "cell_type": "code",
   "execution_count": null,
   "id": "14086513",
   "metadata": {},
   "outputs": [],
   "source": [
    "direct_ = deque()\n",
    "reversed_ = deque()\n",
    "\n",
    "for x in tqdm(edges_types['was_admitted_in']):\n",
    "    if x['source'] in nodes_types[x['source_type'].lower()] and x['dest'] in nodes_types[x['dest_type'].lower()]:\n",
    "        direct_.append(x)\n",
    "        if len(direct_) == n:\n",
    "            graph.query(\"\"\"\n",
    "                UNWIND $data AS edge\n",
    "                MATCH (a:Patient), (b:Admission)\n",
    "                WHERE a.id = edge.source AND b.id = edge.dest\n",
    "                MERGE (a)-[r:was_admitted_in]->(b)\n",
    "                RETURN distinct 'done'\n",
    "                \"\"\", {'data':direct_})   \n",
    "            direct_.clear()\n",
    "        \n",
    "    if x['dest'] in nodes_types[x['source_type'].lower()] and x['source'] in nodes_types[x['dest_type'].lower()]:        \n",
    "        reversed_.append(x) \n",
    "        if len(reversed_) == n:\n",
    "            graph.query(\"\"\"\n",
    "                UNWIND $data AS edge\n",
    "                MATCH (a:Patient), (b:Admission)\n",
    "                WHERE a.id = edge.dest AND b.id = edge.source\n",
    "                MERGE (a)-[r:was_admitted_in]->(b)\n",
    "                RETURN distinct 'done'\n",
    "                \"\"\", {'data':reversed_})    \n",
    "            reversed_.clear()\n",
    "\n",
    "if len(direct_) > 0:\n",
    "    graph.query(\"\"\"\n",
    "        UNWIND $data AS edge\n",
    "        MATCH (a:Patient), (b:Admission)\n",
    "        WHERE a.id = edge.source AND b.id = edge.dest\n",
    "        MERGE (a)-[r:was_admitted_in]->(b)\n",
    "        RETURN distinct 'done'\n",
    "        \"\"\", {'data':direct_})  \n",
    "        \n",
    "if len(reversed_) > 0:\n",
    "    graph.query(\"\"\"\n",
    "        UNWIND $data AS edge\n",
    "        MATCH (a:Patient), (b:Admission)\n",
    "        WHERE a.id = edge.dest AND b.id = edge.source\n",
    "        MERGE (a)-[r:was_admitted_in]->(b)\n",
    "        RETURN distinct 'done'\n",
    "        \"\"\", {'data':reversed_}) "
   ]
  },
  {
   "cell_type": "code",
   "execution_count": null,
   "id": "e8baed3c",
   "metadata": {},
   "outputs": [],
   "source": [
    "n = 25\n",
    "\n",
    "for i in tqdm(range(0, len(edges_types['has_prescription']), n)): # llegó al 337\n",
    "    graph.query(\"\"\"\n",
    "    UNWIND $data AS edge\n",
    "    MATCH (a:Admission), (b:Prescription)\n",
    "    WHERE a.id = edge.source AND b.id = edge.dest\n",
    "    MERGE (a)-[r:has_prescription]->(b)\n",
    "    RETURN distinct 'done'\n",
    "    \"\"\", {'data':edges_types['has_prescription'][i:i + n]})\n",
    "\n",
    "for i in tqdm(range(0, len(edges_types['prescribed_drug']), n)): # 3277\n",
    "    graph.query(\"\"\"\n",
    "    UNWIND $data AS edge\n",
    "    MATCH (a:Prescription), (b:Drug)\n",
    "    WHERE a.id = edge.source AND b.id = edge.dest\n",
    "    MERGE (a)-[r:prescribed_drug]->(b)\n",
    "    RETURN distinct 'done'\n",
    "    \"\"\", {'data':edges_types['prescribed_drug'][i:i + n]})"
   ]
  },
  {
   "cell_type": "code",
   "execution_count": null,
   "id": "77b2d92d",
   "metadata": {},
   "outputs": [],
   "source": [
    "for i in tqdm(range(0, len(edges_types['is_subclass_of']), n)): # llegó al 337\n",
    "    graph.query(\"\"\"\n",
    "    UNWIND $data AS edge\n",
    "    MATCH (a:ICD), (b:ICD)\n",
    "    WHERE a.id = edge.source AND b.id = edge.dest\n",
    "    MERGE (a)-[r:is_subclass_of]->(b)\n",
    "    RETURN distinct 'done'\n",
    "    \"\"\", {'data':edges_types['is_subclass_of'][i:i + n]})"
   ]
  },
  {
   "cell_type": "code",
   "execution_count": null,
   "id": "99c047fe",
   "metadata": {},
   "outputs": [],
   "source": [
    "n = 25\n",
    "\n",
    "for i in tqdm(range(0, len(edges_types['takes_drug']), n)):\n",
    "    graph.query(\"\"\"\n",
    "    UNWIND $data AS edge\n",
    "    MATCH (a:Admission), (b:Drug)\n",
    "    WHERE a.id = edge.source AND b.id = edge.dest\n",
    "    CREATE (a)-[r:takes_drug]->(b)\n",
    "    RETURN distinct 'done'\n",
    "    \"\"\", {'data':edges_types['takes_drug'][i:i + n]})\n",
    "\n",
    "for i in tqdm(range(0, len(edges_types['interacts_with']), n)):\n",
    "    graph.query(\"\"\"\n",
    "    UNWIND $data AS edge\n",
    "    MATCH (a:Drug), (b:Drug)\n",
    "    WHERE a.id = edge.source AND b.id = edge.dest\n",
    "    CREATE (a)-[r:interacts_with]->(b)\n",
    "    RETURN distinct 'done'\n",
    "    \"\"\", {'data':edges_types['interacts_with'][i:i + n]})"
   ]
  },
  {
   "cell_type": "code",
   "execution_count": null,
   "id": "2eef3e2f",
   "metadata": {},
   "outputs": [],
   "source": [
    "n = 10\n",
    "for i in tqdm(range(0, len(edges_types['was_diagnosed']), n)):\n",
    "    graph.query(\"\"\"\n",
    "    UNWIND $data AS edge\n",
    "    MATCH (a:Admission), (b:ICD)\n",
    "    WHERE a.id = edge.source AND b.id = edge.dest\n",
    "    CREATE (a)-[r:was_diagnosed]->(b)\n",
    "    RETURN distinct 'done'\n",
    "    \"\"\", {'data':edges_types['was_diagnosed'][i:i + n]})"
   ]
  },
  {
   "cell_type": "code",
   "execution_count": null,
   "id": "7cdecced",
   "metadata": {},
   "outputs": [],
   "source": [
    "n = 25\n",
    "\n",
    "for i in tqdm(range(0, len(edges_types['is_subclass_of']), n)): \n",
    "    graph.query(\"\"\"\n",
    "    UNWIND $data AS edge\n",
    "    MATCH (a:ICD), (b:ICD)\n",
    "    WHERE a.id = edge.source AND b.id = edge.dest\n",
    "    MERGE (a)-[r:is_subclass_of]->(b)\n",
    "    RETURN distinct 'done'\n",
    "    \"\"\", {'data':edges_types['is_subclass_of'][i:i + n]})"
   ]
  }
 ],
 "metadata": {
  "kernelspec": {
   "display_name": "Python 3 (ipykernel)",
   "language": "python",
   "name": "python3"
  },
  "language_info": {
   "codemirror_mode": {
    "name": "ipython",
    "version": 3
   },
   "file_extension": ".py",
   "mimetype": "text/x-python",
   "name": "python",
   "nbconvert_exporter": "python",
   "pygments_lexer": "ipython3",
   "version": "3.9.12"
  }
 },
 "nbformat": 4,
 "nbformat_minor": 5
}
