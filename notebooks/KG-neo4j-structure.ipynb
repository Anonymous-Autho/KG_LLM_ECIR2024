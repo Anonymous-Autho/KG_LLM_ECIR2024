{
 "cells": [
  {
   "cell_type": "markdown",
   "id": "122d945f",
   "metadata": {},
   "source": [
    "Para transformar las tuplas que tenemos o la info que tenemos en agrupados de los nodos con sus propiedades, sus embeddings y sus arcos."
   ]
  },
  {
   "cell_type": "code",
   "execution_count": null,
   "id": "d769fd79",
   "metadata": {},
   "outputs": [],
   "source": [
    "import pandas as pd\n",
    "from tqdm.notebook import tqdm\n",
    "from collections import defaultdict"
   ]
  },
  {
   "cell_type": "code",
   "execution_count": null,
   "id": "eb0d735b",
   "metadata": {},
   "outputs": [],
   "source": [
    "path_dir = ./'"
   ]
  },
  {
   "cell_type": "code",
   "execution_count": null,
   "id": "e8f0f8f4",
   "metadata": {},
   "outputs": [],
   "source": [
    "nodes = pd.read_pickle(path_dir + '__triples_nodes_pdd.pickle')\n",
    "len(nodes)"
   ]
  },
  {
   "cell_type": "code",
   "execution_count": null,
   "id": "279969e8",
   "metadata": {},
   "outputs": [],
   "source": [
    "neo_nodes = defaultdict(dict)\n",
    "\n",
    "for n in tqdm(nodes):\n",
    "    neo_nodes[n[0]][n[1]] = n[2]\n",
    "\n",
    "len(neo_nodes)"
   ]
  },
  {
   "cell_type": "code",
   "execution_count": null,
   "id": "661155d3",
   "metadata": {},
   "outputs": [],
   "source": [
    "del nodes"
   ]
  },
  {
   "cell_type": "code",
   "execution_count": null,
   "id": "9280aa91",
   "metadata": {},
   "outputs": [],
   "source": [
    "for k,v in neo_nodes.items():\n",
    "    print(k,v)\n",
    "    print('-------------')\n",
    "    break"
   ]
  },
  {
   "cell_type": "code",
   "execution_count": null,
   "id": "d2e5bd14",
   "metadata": {},
   "outputs": [],
   "source": [
    "import pickle\n",
    "with open(path_dir + 'neo4j_nodes.pickle','wb') as file:\n",
    "    pickle.dump(neo_nodes,file)"
   ]
  },
  {
   "cell_type": "code",
   "execution_count": null,
   "id": "e36a78da",
   "metadata": {},
   "outputs": [],
   "source": [
    "del neo_nodes"
   ]
  },
  {
   "cell_type": "code",
   "execution_count": null,
   "id": "f11b16fd",
   "metadata": {},
   "outputs": [],
   "source": [
    "drugs = pd.read_pickle(path_dir + '__triples_drugs_pdd.pickle')\n",
    "len(drugs)"
   ]
  },
  {
   "cell_type": "code",
   "execution_count": null,
   "id": "40b44b38",
   "metadata": {},
   "outputs": [],
   "source": [
    "drug_embeddings = pd.read_pickle(path_dir + 'drugs_emb.pk')\n",
    "len(drug_embeddings)"
   ]
  },
  {
   "cell_type": "code",
   "execution_count": null,
   "id": "0d2fed24",
   "metadata": {},
   "outputs": [],
   "source": [
    "neo_nodes_drugs = defaultdict(dict) # TODO: This was relations two!!\n",
    "\n",
    "drug_interactions = defaultdict(set)\n",
    "\n",
    "for d in tqdm(drugs):\n",
    "    \n",
    "    if d[1] == 'interacts with':\n",
    "        drug_interactions[d[0]].add(d[2])\n",
    "        continue\n",
    "    \n",
    "    neo_nodes_drugs[d[0]][d[1]] = d[2]\n",
    "    \n",
    "for k in neo_nodes_drugs:\n",
    "    if k not in drug_embeddings:\n",
    "        continue\n",
    "    \n",
    "    for t,e in drug_embeddings[k].items():\n",
    "        neo_nodes_drugs[k][t+'__embeddings'] = e\n",
    "    \n",
    "    \n",
    "len(neo_nodes_drugs)"
   ]
  },
  {
   "cell_type": "code",
   "execution_count": null,
   "id": "4af0732b",
   "metadata": {},
   "outputs": [],
   "source": [
    "len(drug_interactions)"
   ]
  },
  {
   "cell_type": "code",
   "execution_count": null,
   "id": "64844a94",
   "metadata": {},
   "outputs": [],
   "source": [
    "with open(path_dir + 'neo4j_nodes_drugs.pickle','wb') as file:\n",
    "    pickle.dump(neo_nodes_drugs,file)"
   ]
  },
  {
   "cell_type": "code",
   "execution_count": null,
   "id": "5b551244",
   "metadata": {},
   "outputs": [],
   "source": [
    "icd = pd.read_pickle(path_dir + '__triples_icds_pdd.pickle')\n",
    "len(icd)"
   ]
  },
  {
   "cell_type": "code",
   "execution_count": null,
   "id": "50bcdb28",
   "metadata": {},
   "outputs": [],
   "source": [
    "icd_embeddings = pd.read_pickle(path_dir + 'icds_emb.pk')\n",
    "len(icd_embeddings)"
   ]
  },
  {
   "cell_type": "code",
   "execution_count": null,
   "id": "3a4a4e6a",
   "metadata": {},
   "outputs": [],
   "source": [
    "neo_nodes_icds = defaultdict(dict)\n",
    "\n",
    "for i in icd:\n",
    "    \n",
    "    if i[1] == 'is child of': # rel\n",
    "        continue\n",
    "        \n",
    "    if i[1] == 'expanded form of': # nothing\n",
    "        continue \n",
    "            \n",
    "    neo_nodes_icds['ICD9CM/'+i[0]][i[1]] = i[2] # has type, is known as -- el ICD es para que haga matching con el otro\n",
    "    if k in icd_embeddings:\n",
    "        for t,e in icd_embeddings[i[0]].items():\n",
    "            neo_nodes_icds['ICD9CM/'+i[0]][t+'__embeddings'] = e\n",
    "    \n",
    "len(neo_nodes_icds)"
   ]
  },
  {
   "cell_type": "code",
   "execution_count": null,
   "id": "dd86f96c",
   "metadata": {},
   "outputs": [],
   "source": [
    "with open(path_dir + 'neo4j_nodes_icds.pickle','wb') as file:\n",
    "    pickle.dump(neo_nodes_icds,file)"
   ]
  },
  {
   "cell_type": "code",
   "execution_count": null,
   "id": "2ea877f9",
   "metadata": {},
   "outputs": [],
   "source": [
    "edges = pd.read_pickle(path_dir + '__triples_edges_pdd.pickle')\n",
    "len(edges)"
   ]
  },
  {
   "cell_type": "code",
   "execution_count": null,
   "id": "1b4d21cf",
   "metadata": {},
   "outputs": [],
   "source": [
    "edges_drug_interactions = defaultdict(set)\n",
    "\n",
    "for e in tqdm(edges):\n",
    "    if e[1] == 'has prescription':\n",
    "        continue\n",
    "    \n",
    "    if e[1] == 'was admitted in':\n",
    "        continue\n",
    "    \n",
    "    if e[1] == 'takes drug':\n",
    "        continue\n",
    "    \n",
    "    if e[1] == 'was diagnosed':\n",
    "#         print(e)\n",
    "        continue\n",
    "    \n",
    "    if e[1] == 'interacts with':\n",
    "        edges_drug_interactions[e[0]].add(e[2])\n",
    "        continue\n",
    "    \n",
    "    print(e)\n",
    "    break"
   ]
  },
  {
   "cell_type": "code",
   "execution_count": null,
   "id": "6e6b46c4",
   "metadata": {},
   "outputs": [],
   "source": [
    "for k, i in tqdm(drug_interactions.items()):\n",
    "    if k in edges_drug_interactions:\n",
    "        for ii in i:\n",
    "            if ii not in edges_drug_interactions[k]:\n",
    "                edges.append((k,'interacts with',ii))\n",
    "    else:\n",
    "        for ii in i:\n",
    "            edges.append((k,'interacts with',ii))"
   ]
  },
  {
   "cell_type": "code",
   "execution_count": null,
   "id": "83b29dd9",
   "metadata": {},
   "outputs": [],
   "source": [
    "icd9 = pd.read_pickle(path_dir + 'icd9_umls.pickle')\n",
    "icd9\n",
    "\n",
    "for k,v in tqdm(icd9.items()):\n",
    "    if v['type_'] != 'ICD9CM':\n",
    "        continue\n",
    "    \n",
    "    if 'subclass' in v:\n",
    "        edges.append(('ICD9CM/'+k,'is subclass of','ICD9CM/'+v['subclass']))"
   ]
  },
  {
   "cell_type": "code",
   "execution_count": null,
   "id": "a952a79a",
   "metadata": {},
   "outputs": [],
   "source": [
    "# reconversión de los edges a dictionary para levantarlos directo en neo4j\n",
    "from collections import deque\n",
    "edges_dict = deque()\n",
    "for e in tqdm(edges):\n",
    "    edges_dict.append({'source':e[0],'dest':e[2],'rel_type':e[1]})\n",
    "\n",
    "len(edges_dict)"
   ]
  },
  {
   "cell_type": "code",
   "execution_count": null,
   "id": "f35851e3",
   "metadata": {},
   "outputs": [],
   "source": [
    "with open(path_dir + 'neo4j_edges.pickle','wb') as file:\n",
    "    pickle.dump(edges_dict,file)"
   ]
  }
 ],
 "metadata": {
  "kernelspec": {
   "display_name": "Python 3 (ipykernel)",
   "language": "python",
   "name": "python3"
  },
  "language_info": {
   "codemirror_mode": {
    "name": "ipython",
    "version": 3
   },
   "file_extension": ".py",
   "mimetype": "text/x-python",
   "name": "python",
   "nbconvert_exporter": "python",
   "pygments_lexer": "ipython3",
   "version": "3.9.12"
  }
 },
 "nbformat": 4,
 "nbformat_minor": 5
}
