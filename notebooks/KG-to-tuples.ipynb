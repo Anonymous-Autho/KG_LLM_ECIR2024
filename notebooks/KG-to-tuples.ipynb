{
 "cells": [
  {
   "cell_type": "markdown",
   "id": "6dee465d",
   "metadata": {},
   "source": [
    "Once we have all the entities we were interested in, we build the triples.\n",
    "\n",
    "Two options:\n",
    "1. Build the triples as simply as we could. Attributes are also relations.\n",
    "2. Build a neo4j entity, where nodes can have attributes and be used as embeddings."
   ]
  },
  {
   "cell_type": "code",
   "execution_count": null,
   "id": "4569ac59",
   "metadata": {},
   "outputs": [],
   "source": [
    "import pandas as pd\n",
    "import os\n",
    "from tqdm.notebook import tqdm"
   ]
  },
  {
   "cell_type": "code",
   "execution_count": null,
   "id": "0784e274",
   "metadata": {},
   "outputs": [],
   "source": [
    "path_dir = './'\n",
    "aa = pd.read_pickle(path_dir + 'uts_entities.pickle')\n",
    "len(aa[0]),len(aa[1]),len(aa[2]) # aa[0] dict de entidades, aa[1] set de urls, aa[2] processed urls"
   ]
  },
  {
   "cell_type": "code",
   "execution_count": null,
   "id": "af13b033",
   "metadata": {},
   "outputs": [],
   "source": [
    "path_dir = './'\n",
    "path_nodes = path_dir + 'pdd_nt/'"
   ]
  },
  {
   "cell_type": "markdown",
   "id": "c14a0ed9",
   "metadata": {},
   "source": [
    "#### Simple triples\n",
    "\n",
    "Everything is a triple."
   ]
  },
  {
   "cell_type": "code",
   "execution_count": null,
   "id": "07c23407",
   "metadata": {},
   "outputs": [],
   "source": [
    "from collections import deque\n",
    "import pickle\n",
    "added_nodes = set() \n",
    "\n",
    "triples = deque()\n",
    "\n",
    "for ff in tqdm(os.listdir(path_nodes)):\n",
    "    if '__PDD_nodes' not in ff:\n",
    "        continue\n",
    "    print(ff)\n",
    "    nodes = pd.read_pickle(path_nodes + ff)\n",
    "    \n",
    "    for n,data in tqdm(nodes.items()):\n",
    "        \n",
    "        if n in added_nodes:\n",
    "            print(n)\n",
    "            continue\n",
    "\n",
    "        added_nodes.add(n)\n",
    "\n",
    "        if data['type_'] == 'vocabulary:Prescription':\n",
    "            triples.append((n,'is a','prescription'))\n",
    "            triples.append((n,'has a duration of',data['duration_days']))\n",
    "            triples.append((n,'has a dose of',data['dose']))\n",
    "            triples.append((n,'has a drug of',data['drug_type']))\n",
    "            continue\n",
    "\n",
    "        if data['type_'] == 'drug':\n",
    "            triples.append((n,'is a','drug'))\n",
    "            continue\n",
    "\n",
    "        if data['type_'] == 'vocabulary:Admission':\n",
    "            triples.append((n,'is a','admission'))\n",
    "            if 'age' in data:\n",
    "                triples.append((n,'has age',data['age']))\n",
    "            if 'gender' in data:\n",
    "                triples.append((n,'has gender',data['gender']))\n",
    "            if 'bmi_first' in data:\n",
    "                triples.append((n,'has bmi',data['bmi_first']))\n",
    "            continue\n",
    "\n",
    "        if data['type_'] == 'vocabulary:Patient':\n",
    "            triples.append((n,'is a','patient'))\n",
    "            continue\n",
    "\n",
    "        if data['type_'] == 'ICD_diagnose':\n",
    "            triples.append((n.split('/')[-1],'is a','diagnose'))\n",
    "            continue\n",
    "\n",
    "        print(n,data)\n",
    "    \n",
    "    del nodes\n",
    "    \n",
    "with open(path_dir + '__triples_nodes_pdd.pickle','wb') as file:\n",
    "    pickle.dump(triples,file)\n",
    "    \n",
    "len(triples)"
   ]
  },
  {
   "cell_type": "code",
   "execution_count": null,
   "id": "c0a98fe7",
   "metadata": {},
   "outputs": [],
   "source": [
    "edges = pd.read_pickle(path_nodes + '__PDD_edges.pickle')"
   ]
  },
  {
   "cell_type": "code",
   "execution_count": null,
   "id": "6de297a1",
   "metadata": {},
   "outputs": [],
   "source": [
    "from collections import deque\n",
    "import pickle\n",
    "\n",
    "triples = deque()\n",
    "for e,data in tqdm(edges.items()):\n",
    "    \n",
    "    ss = e.split('___')\n",
    "    if data['type_'] == 'has_prescription':\n",
    "        triples.append((ss[0],data['type_'].replace('_',' '),ss[1]))\n",
    "        continue\n",
    "    \n",
    "    if data['type_'] == 'hospital_admission_id':\n",
    "        triples.append((ss[0],'was admitted in',ss[1]))\n",
    "        continue\n",
    "    \n",
    "    if data['type_'] == 'take_drug_id' or data['type_'] == 'take_drugbank_id':\n",
    "        triples.append((ss[0],'takes drug',ss[1]))\n",
    "        continue\n",
    "        \n",
    "    if data['type_'] == 'diagnoses_icd9':\n",
    "        triples.append((ss[0],'was diagnosed',ss[1]))\n",
    "        continue    \n",
    "    \n",
    "    if data['type_'] == 'interact':\n",
    "        triples.append((ss[0],'interacts with',ss[1]))\n",
    "        continue    \n",
    "    \n",
    "    \n",
    "    print(e,data)\n",
    "    break\n",
    "\n",
    "with open(path_dir + '__triples_edges_pdd.pickle','wb') as file:\n",
    "    pickle.dump(triples,file)\n",
    "    \n",
    "len(triples)"
   ]
  },
  {
   "cell_type": "code",
   "execution_count": null,
   "id": "9cef2d9c",
   "metadata": {},
   "outputs": [],
   "source": [
    "drugs = pd.read_pickle(path_dir + 'dict_all_drugs.pickle')"
   ]
  },
  {
   "cell_type": "code",
   "execution_count": null,
   "id": "33fcca0f",
   "metadata": {},
   "outputs": [],
   "source": [
    "triples_nodes = pd.read_pickle(path_dir + '__triples_nodes_pdd.pickle')"
   ]
  },
  {
   "cell_type": "code",
   "execution_count": null,
   "id": "24e9349f",
   "metadata": {},
   "outputs": [],
   "source": [
    "len(triples_nodes)"
   ]
  },
  {
   "cell_type": "code",
   "execution_count": null,
   "id": "2de39cbb",
   "metadata": {},
   "outputs": [],
   "source": [
    "drugs_nodes = set()\n",
    "for t in tqdm(triples_nodes):\n",
    "    if t[2] == 'drug':\n",
    "        drugs_nodes.add(t[0])\n",
    "\n",
    "len(drugs_nodes)"
   ]
  },
  {
   "cell_type": "code",
   "execution_count": null,
   "id": "f22f88d2",
   "metadata": {},
   "outputs": [],
   "source": [
    "drugs_triples = set()\n",
    "\n",
    "processed = set()\n",
    "\n",
    "while len(drugs_nodes) != 0:\n",
    "    \n",
    "    d = drugs_nodes.pop()\n",
    "    \n",
    "    print(len(drugs_nodes),d)\n",
    "    \n",
    "    if d not in drugs:\n",
    "        continue\n",
    "    \n",
    "    if d in processed:\n",
    "        continue\n",
    "        \n",
    "    processed.add(d)\n",
    "    data = drugs[d]\n",
    "    \n",
    "    if 'group' in data:\n",
    "        for g in data['group']:\n",
    "            drugs_triples.add((d,'is in group',g))\n",
    "        \n",
    "    if 'name' in data:\n",
    "        drugs_triples.add((d,'is known as',data['name']))\n",
    "\n",
    "    if 'description' in data:\n",
    "        drugs_triples.add((d,'can be described as',data['description']))\n",
    "\n",
    "    if 'mechanism_of_action' in data:\n",
    "        drugs_triples.add((d,'acts as',data['mechanism_of_action']))\n",
    "\n",
    "    if 'drug_interactions' in data:\n",
    "        for i in data['drug_interactions'].keys():\n",
    "            drugs_triples.add((d,'interacts with',i))\n",
    "            drugs_nodes.add(i) # we add the interacted \n",
    "\n",
    "    if 'indication' in data:\n",
    "        drugs_triples.add((d,'is indicated for',data['indication']))\n",
    "        \n",
    "with open(path_dir + '__triples_drugs_pdd','wb') as file:\n",
    "    pickle.dump(drugs_triples,file)\n",
    "    \n",
    "len(drugs_triples)        "
   ]
  },
  {
   "cell_type": "code",
   "execution_count": null,
   "id": "1b6ce9b0",
   "metadata": {},
   "outputs": [],
   "source": [
    "icds = pd.read_pickle(path_dir + 'icd9_umls.pickle') # no relations between diseases... esas están en el otro\n",
    "\n",
    "cuis_info = aa[0]\n",
    "icd_index_cui = {}\n",
    "for k,v in cuis_info.items():\n",
    "    for kk in v:\n",
    "        icd_index_cui[kk] = k\n",
    "icd_index_cui"
   ]
  },
  {
   "cell_type": "code",
   "execution_count": null,
   "id": "90e4d5f7",
   "metadata": {},
   "outputs": [],
   "source": [
    "icds"
   ]
  },
  {
   "cell_type": "code",
   "execution_count": null,
   "id": "536f1f09",
   "metadata": {},
   "outputs": [],
   "source": [
    "icds_nodes = set()\n",
    "for t in tqdm(triples_nodes):\n",
    "    if t[2] == 'diagnose':\n",
    "        icds_nodes.add(t[0])\n",
    "\n",
    "len(icds_nodes)"
   ]
  },
  {
   "cell_type": "code",
   "execution_count": null,
   "id": "9df6512a",
   "metadata": {},
   "outputs": [],
   "source": [
    "icds_triples = set()\n",
    "\n",
    "icds_nodes_ = set(icds_nodes)\n",
    "\n",
    "processed_icds = set()\n",
    "while len(icds_nodes_) > 0:\n",
    "    \n",
    "    ii = icds_nodes_.pop()\n",
    "    if ii in processed_icds:\n",
    "        continue\n",
    "    \n",
    "    processed_icds.add(ii)\n",
    "    \n",
    "    if ii not in icds:\n",
    "        continue\n",
    "    \n",
    "    print(len(icds_nodes_),ii)\n",
    "    \n",
    "    icds_triples.add((ii,'is known as',icds[ii]['label']))\n",
    "    if 'STY' in icds[ii]:\n",
    "        if icds[ii]['STY'] in icds:\n",
    "            icds_triples.add((ii,'has type',icds[icds[ii]['STY']]['label']))\n",
    "            \n",
    "    if ii in icd_index_cui: # si lo tengo acá\n",
    "        dd = cuis_info[icd_index_cui[ii]][ii]\n",
    "\n",
    "        if 'ancestors' in dd:\n",
    "#             print('--- ancestors:',dd['ancestors'])\n",
    "            if len(dd['ancestors']) > 0:\n",
    "                icds_triples.add((ii,'is child of',dd['ancestors'][0]))\n",
    "                icds_nodes_.add(dd['ancestors'][0])\n",
    "                for j in range(1,len(dd['ancestors'])):\n",
    "                    icds_triples.add((dd['ancestors'][j-1],'is child of',dd['ancestors'][j]))\n",
    "                    icds_nodes_.add(dd['ancestors'][j])\n",
    "                    \n",
    "        if 'relations_out' in dd:\n",
    "            for k,v in dd['relations_out'].items():\n",
    "                for vv in v:\n",
    "#                     print(icd_index_cui[ii],vv)\n",
    "                    if vv in cuis_info:\n",
    "                        vv = list(cuis_info[vv].keys())[0]\n",
    "#                         print(cuis_info[vv])\n",
    "                        if ii == vv:\n",
    "                            continue\n",
    "                        icds_triples.add((ii,k.replace('_',' '),vv))\n",
    "#                         print((ii,k.replace('_',' '),vv))\n",
    "        \n",
    "        if 'relations_in' in dd:\n",
    "            for k,v in dd['relations_in'].items():\n",
    "                for vv in v:\n",
    "                    if vv in cuis_info:\n",
    "#                         vv = list(cuis_info[vv].keys())[0]\n",
    "                        if ii == vv:\n",
    "                            continue\n",
    "                        icds_triples.add((ii,k.replace('_',' '),vv))\n",
    "#                         print((ii,k.replace('_',' '),vv))\n",
    " \n",
    "# with open(path_dir + '__triples_icds_pdd','wb') as file:\n",
    "#     pickle.dump(drugs_triples,file)\n",
    "                        \n",
    "len(icds_triples)"
   ]
  },
  {
   "cell_type": "code",
   "execution_count": null,
   "id": "e3cea136",
   "metadata": {},
   "outputs": [],
   "source": [
    "import pickle\n",
    "with open(path_dir + '__triples_icds_pdd','wb') as file:\n",
    "    pickle.dump(icds_triples,file)"
   ]
  }
 ],
 "metadata": {
  "kernelspec": {
   "display_name": "Python 3 (ipykernel)",
   "language": "python",
   "name": "python3"
  },
  "language_info": {
   "codemirror_mode": {
    "name": "ipython",
    "version": 3
   },
   "file_extension": ".py",
   "mimetype": "text/x-python",
   "name": "python",
   "nbconvert_exporter": "python",
   "pygments_lexer": "ipython3",
   "version": "3.9.12"
  }
 },
 "nbformat": 4,
 "nbformat_minor": 5
}
