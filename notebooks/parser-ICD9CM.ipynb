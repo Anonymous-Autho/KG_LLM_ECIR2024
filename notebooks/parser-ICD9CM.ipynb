{
 "cells": [
  {
   "cell_type": "markdown",
   "id": "f41d5803",
   "metadata": {},
   "source": [
    "* ``rdflib`` parsea el grafo correctamente.\n",
    "* Genera las triplas.\n",
    "* Para armar nuestra estructura parsear las triplas e ir agregándoles información."
   ]
  },
  {
   "cell_type": "code",
   "execution_count": null,
   "id": "de00ee36",
   "metadata": {
    "scrolled": true
   },
   "outputs": [],
   "source": [
    "import pandas as pd\n",
    "from tqdm.notebook import tqdm\n",
    "import pickle\n",
    "import os"
   ]
  },
  {
   "cell_type": "code",
   "execution_count": null,
   "id": "eb3518c2",
   "metadata": {
    "scrolled": true
   },
   "outputs": [],
   "source": [
    "path = './'"
   ]
  },
  {
   "cell_type": "code",
   "execution_count": null,
   "id": "f0346f4e",
   "metadata": {
    "scrolled": true
   },
   "outputs": [],
   "source": [
    "from rdflib import Graph, URIRef, Namespace, Literal, XSD, BNode\n",
    "from rdflib.collection import Collection\n",
    "\n",
    "g = Graph()\n",
    "g.parse(path + \"ICD9CM.ttl\", format=\"ttl\") # parsea correctamente el archivo"
   ]
  },
  {
   "cell_type": "code",
   "execution_count": null,
   "id": "82efdfcb",
   "metadata": {
    "scrolled": false
   },
   "outputs": [],
   "source": [
    "from collections import defaultdict\n",
    "\n",
    "def add_to_dict(source,rr,dest):\n",
    "    dd = source.split('/')\n",
    "    if dd[-1] in diagnostics:\n",
    "        diagnostics[dd[-1]][rr] = dest\n",
    "    else:\n",
    "        no_class[dd[-1]][rr] = dest\n",
    "    return\n",
    "\n",
    "diagnostics = {}\n",
    "no_class = defaultdict(dict)\n",
    "\n",
    "for n in tqdm(g):\n",
    "\n",
    "    source = str(n[0])\n",
    "    rel = str(n[1])\n",
    "    dest = str(n[2])\n",
    "    \n",
    "    if rel.endswith('#type'): \n",
    "        if dest.endswith('#Class'):\n",
    "            dd = source.split('/')\n",
    "            diagnostics[dd[-1]] = {}\n",
    "            if dd[-1] in no_class:\n",
    "                diagnostics[dd[-1]].update(no_class[dd[-1]])\n",
    "                del no_class[dd[-1]]\n",
    "            diagnostics[dd[-1]]['type_'] = dd[-2]\n",
    "        continue\n",
    "    \n",
    "    if rel.endswith('/umls/tui'):\n",
    "        add_to_dict(source,'tui',dest)\n",
    "        continue\n",
    "    \n",
    "    if rel.endswith('#subClassOf'):\n",
    "        add_to_dict(source,'subclass',dest.split('/')[-1])\n",
    "        continue\n",
    "    \n",
    "    if rel.endswith('prefLabel'):\n",
    "        add_to_dict(source,'label',dest)\n",
    "        continue\n",
    "        \n",
    "    if rel.endswith('cui'):\n",
    "        add_to_dict(source,'cui',dest)\n",
    "        continue\n",
    "    \n",
    "    if rel.endswith('SOS'):\n",
    "        add_to_dict(source,'SOS',dest)\n",
    "        continue\n",
    "        \n",
    "    if rel.endswith('hasSTY'):\n",
    "        add_to_dict(source,'STY',dest.split('/')[-1])\n",
    "        continue\n",
    "        \n",
    "    if rel.endswith('ICE'):\n",
    "        add_to_dict(source,'ICE',dest)\n",
    "        continue\n",
    "        \n",
    "    if rel.endswith('ICN'):\n",
    "        add_to_dict(source,'ICN',dest)\n",
    "        continue\n",
    "        \n",
    "    if rel.endswith('ICA'):\n",
    "        add_to_dict(source,'ICA',dest)\n",
    "        continue\n",
    "        \n",
    "    if rel.endswith('ICC'):\n",
    "        add_to_dict(source,'ICC',dest)\n",
    "        continue\n",
    "        \n",
    "    if rel.endswith('ICF'):\n",
    "        add_to_dict(source,'ICF',dest)\n",
    "        continue\n",
    "        \n",
    "    if rel.endswith('notation'):\n",
    "        continue\n",
    "        \n",
    "    if rel.endswith('comment'):\n",
    "        continue\n",
    "    \n",
    "    if rel.endswith('label'):\n",
    "        continue\n",
    "\n",
    "with open(path + 'icd9_umls.pickle','wb') as file:\n",
    "    pickle.dump(diagnostics,file)\n",
    "        \n",
    "diagnostics"
   ]
  },
  {
   "cell_type": "code",
   "execution_count": null,
   "id": "5108cf2b",
   "metadata": {
    "scrolled": true
   },
   "outputs": [],
   "source": [
    "icd = set()\n",
    "\n",
    "for ff in tqdm(os.listdir(path_nodes)):\n",
    "    \n",
    "    if '__PDD_nodes' not in ff:\n",
    "        continue\n",
    "    print(ff)\n",
    "    nodes = pd.read_pickle(path_nodes + ff)   \n",
    "    \n",
    "    for n,data in nodes.items():\n",
    "        if 'type_' not in data:\n",
    "            continue\n",
    "        if data['type_'] == 'ICD_diagnose':\n",
    "            icd.add(n.split('/')[-1])\n",
    "len(icd)"
   ]
  },
  {
   "cell_type": "code",
   "execution_count": null,
   "id": "1eb9e7e6",
   "metadata": {
    "scrolled": true
   },
   "outputs": [],
   "source": [
    "for ii in icd: # no falta ningún diagnóstico\n",
    "    if ii not in diagnostics:\n",
    "        print(ii)"
   ]
  },
  {
   "cell_type": "code",
   "execution_count": null,
   "id": "c7acbb14",
   "metadata": {
    "scrolled": true
   },
   "outputs": [],
   "source": [
    "# las prescriptions quedaron mal!!! No se actualizaron los campos que no nos servían!!!\n",
    "\n",
    "\n",
    "# todos los que están mal son prescriptions\n",
    "\n",
    "path_nodes = path_dir + 'pdd_nt/'\n",
    "\n",
    "for ff in tqdm(os.listdir(path_nodes)):\n",
    "    \n",
    "    if '__PDD_nodes' not in ff:\n",
    "        continue\n",
    "    print(ff)\n",
    "    nodes = pd.read_pickle(path_nodes + ff)   \n",
    "    for n,data in tqdm(nodes.items()):\n",
    "        if 'type_' not in data:\n",
    "            if not n.startswith('pres'):\n",
    "                continue\n",
    "            changed = True\n",
    "            for k in data:\n",
    "                data[k] = str(data[k])\n",
    "            data['type_'] = 'vocabulary:Prescription'\n",
    "        \n",
    "    if changed:\n",
    "        print('Updating...')\n",
    "        with open(path_nodes + ff,'wb') as file:\n",
    "            pickle.dump(nodes,file)"
   ]
  },
  {
   "cell_type": "code",
   "execution_count": null,
   "id": "b7708642",
   "metadata": {
    "scrolled": true
   },
   "outputs": [],
   "source": [
    "nodes = pd.read_pickle(path_nodes + '__PDD_nodes_4270938.pickle')   \n",
    "\n",
    "for ff in tqdm(os.listdir(path_nodes)):\n",
    "    \n",
    "    if '__PDD_nodes' not in ff:\n",
    "        continue\n",
    "        \n",
    "    print(ff)\n",
    "    nodes = pd.read_pickle(path_nodes + ff)   \n",
    "\n",
    "    for n,data in tqdm(nodes.items()):\n",
    "        if 'type_' not in data:\n",
    "            continue\n",
    "        if data['type_'] != 'vocabulary:Prescription':\n",
    "            continue\n",
    "\n",
    "        changed = True\n",
    "        for k in data:\n",
    "            data[k] = str(data[k])\n",
    "\n",
    "        nodes[n] = dict(data)\n",
    "\n",
    "    if changed:\n",
    "        print('Updating...')\n",
    "        with open(path_nodes + ff,'wb') as file:\n",
    "            pickle.dump(nodes,file)"
   ]
  },
  {
   "cell_type": "code",
   "execution_count": null,
   "id": "0cbfec5b",
   "metadata": {
    "scrolled": false
   },
   "outputs": [],
   "source": [
    "nodes = pd.read_pickle(path_nodes + '__PDD_nodes_3000000.pickle')   \n",
    "for n,data in tqdm(nodes.items()):\n",
    "    print(n,data)"
   ]
  },
  {
   "cell_type": "code",
   "execution_count": null,
   "id": "8bcd8184",
   "metadata": {
    "scrolled": true
   },
   "outputs": [],
   "source": []
  }
 ],
 "metadata": {
  "kernelspec": {
   "display_name": "Python 3 (ipykernel)",
   "language": "python",
   "name": "python3"
  },
  "language_info": {
   "codemirror_mode": {
    "name": "ipython",
    "version": 3
   },
   "file_extension": ".py",
   "mimetype": "text/x-python",
   "name": "python",
   "nbconvert_exporter": "python",
   "pygments_lexer": "ipython3",
   "version": "3.9.12"
  }
 },
 "nbformat": 4,
 "nbformat_minor": 5
}
